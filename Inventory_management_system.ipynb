{
  "nbformat": 4,
  "nbformat_minor": 0,
  "metadata": {
    "colab": {
      "name": "Inventory_management_system.ipynb",
      "provenance": [],
      "authorship_tag": "ABX9TyNpupp1bXmjRILN+tASmntL",
      "include_colab_link": true
    },
    "kernelspec": {
      "name": "python3",
      "display_name": "Python 3"
    }
  },
  "cells": [
    {
      "cell_type": "markdown",
      "metadata": {
        "id": "view-in-github",
        "colab_type": "text"
      },
      "source": [
        "<a href=\"https://colab.research.google.com/github/MahmudaAkterMitu/Python_code/blob/main/Inventory_management_system.ipynb\" target=\"_parent\"><img src=\"https://colab.research.google.com/assets/colab-badge.svg\" alt=\"Open In Colab\"/></a>"
      ]
    },
    {
      "cell_type": "code",
      "metadata": {
        "id": "0P3IQ-lYLOs2",
        "colab": {
          "base_uri": "https://localhost:8080/",
          "height": 697
        },
        "outputId": "940d95d1-5d79-4a61-8337-cb1ebed38810"
      },
      "source": [
        "import numpy as np\n",
        "m = 11\n",
        "n = 5\n",
        "beginning_inventory = 3\n",
        "ending_inventory = 0\n",
        "shortage_quantity = 0\n",
        "order_quantity = 8\n",
        "days_until_order_arrives = 1\n",
        "total_shortage = 0\n",
        "for cycle in range(1,6):\n",
        "  print(\"\\nCycle no: \",cycle)\n",
        "  print(\"DayNo\\tBeginingInventory\\tDemand\\t\\tEndingInventory\\t\\tShortage\\tOrderQuantity\\tDaysUntilOrderArrives\")\n",
        "  count = 0\n",
        "  for day in range(1,n+1):\n",
        "    count = count + 1\n",
        "    daily_demand = np.random.choice(a = [0,1,2,3,4], p = [0.10,0.25,0.35,0.21,0.09])\n",
        "    total_demand = daily_demand + total_shortage\n",
        "    if total_demand > beginning_inventory:\n",
        "      ending_inventory = 0 \n",
        "      shortage_quantity = daily_demand - beginning_inventory\n",
        "      total_shortage = total_shortage + shortage_quantity\n",
        "    else:\n",
        "      ending_inventory = beginning_inventory - total_demand\n",
        "      total_shortage = 0\n",
        "    if count == 5:\n",
        "      days_until_order_arrives = np.random.choice(a = [1,2,3], p = [0.6,0.3,0.1])\n",
        "      if beginning_inventory < m:\n",
        "        order_quantity = m - ending_inventory\n",
        "      else:\n",
        "        order_quantity = 0 \n",
        "\n",
        "    print(\" \",day,\"\\t\\t\",beginning_inventory,\"\\t\\t \",daily_demand,\"\\t\\t\\t\",ending_inventory,\"\\t\\t  \",total_shortage,\"\\t\\t   \",order_quantity,\"\\t\\t\\t\",days_until_order_arrives)\n",
        "    if days_until_order_arrives <1: \n",
        "      beginning_inventory = ending_inventory + order_quantity\n",
        "      order_quantity = 0\n",
        "    else:\n",
        "      days_until_order_arrives = days_until_order_arrives - 1\n",
        "      beginning_inventory = ending_inventory"
      ],
      "execution_count": null,
      "outputs": [
        {
          "output_type": "stream",
          "text": [
            "\n",
            "Cycle no:  1\n",
            "DayNo\tBeginingInventory\tDemand\t\tEndingInventory\t\tShortage\tOrderQuantity\tDaysUntilOrderArrives\n",
            "  1 \t\t 3 \t\t  2 \t\t\t 1 \t\t   0 \t\t    8 \t\t\t 1\n",
            "  2 \t\t 1 \t\t  2 \t\t\t 0 \t\t   1 \t\t    8 \t\t\t 0\n",
            "  3 \t\t 8 \t\t  0 \t\t\t 7 \t\t   0 \t\t    0 \t\t\t 0\n",
            "  4 \t\t 7 \t\t  2 \t\t\t 5 \t\t   0 \t\t    0 \t\t\t 0\n",
            "  5 \t\t 5 \t\t  1 \t\t\t 4 \t\t   0 \t\t    7 \t\t\t 1\n",
            "\n",
            "Cycle no:  2\n",
            "DayNo\tBeginingInventory\tDemand\t\tEndingInventory\t\tShortage\tOrderQuantity\tDaysUntilOrderArrives\n",
            "  1 \t\t 4 \t\t  1 \t\t\t 3 \t\t   0 \t\t    7 \t\t\t 0\n",
            "  2 \t\t 10 \t\t  3 \t\t\t 7 \t\t   0 \t\t    0 \t\t\t 0\n",
            "  3 \t\t 7 \t\t  1 \t\t\t 6 \t\t   0 \t\t    0 \t\t\t 0\n",
            "  4 \t\t 6 \t\t  1 \t\t\t 5 \t\t   0 \t\t    0 \t\t\t 0\n",
            "  5 \t\t 5 \t\t  3 \t\t\t 2 \t\t   0 \t\t    9 \t\t\t 2\n",
            "\n",
            "Cycle no:  3\n",
            "DayNo\tBeginingInventory\tDemand\t\tEndingInventory\t\tShortage\tOrderQuantity\tDaysUntilOrderArrives\n",
            "  1 \t\t 2 \t\t  1 \t\t\t 1 \t\t   0 \t\t    9 \t\t\t 1\n",
            "  2 \t\t 1 \t\t  1 \t\t\t 0 \t\t   0 \t\t    9 \t\t\t 0\n",
            "  3 \t\t 9 \t\t  2 \t\t\t 7 \t\t   0 \t\t    0 \t\t\t 0\n",
            "  4 \t\t 7 \t\t  1 \t\t\t 6 \t\t   0 \t\t    0 \t\t\t 0\n",
            "  5 \t\t 6 \t\t  2 \t\t\t 4 \t\t   0 \t\t    7 \t\t\t 2\n",
            "\n",
            "Cycle no:  4\n",
            "DayNo\tBeginingInventory\tDemand\t\tEndingInventory\t\tShortage\tOrderQuantity\tDaysUntilOrderArrives\n",
            "  1 \t\t 4 \t\t  4 \t\t\t 0 \t\t   0 \t\t    7 \t\t\t 1\n",
            "  2 \t\t 0 \t\t  0 \t\t\t 0 \t\t   0 \t\t    7 \t\t\t 0\n",
            "  3 \t\t 7 \t\t  0 \t\t\t 7 \t\t   0 \t\t    0 \t\t\t 0\n",
            "  4 \t\t 7 \t\t  3 \t\t\t 4 \t\t   0 \t\t    0 \t\t\t 0\n",
            "  5 \t\t 4 \t\t  1 \t\t\t 3 \t\t   0 \t\t    8 \t\t\t 1\n",
            "\n",
            "Cycle no:  5\n",
            "DayNo\tBeginingInventory\tDemand\t\tEndingInventory\t\tShortage\tOrderQuantity\tDaysUntilOrderArrives\n",
            "  1 \t\t 3 \t\t  2 \t\t\t 1 \t\t   0 \t\t    8 \t\t\t 0\n",
            "  2 \t\t 9 \t\t  3 \t\t\t 6 \t\t   0 \t\t    0 \t\t\t 0\n",
            "  3 \t\t 6 \t\t  2 \t\t\t 4 \t\t   0 \t\t    0 \t\t\t 0\n",
            "  4 \t\t 4 \t\t  3 \t\t\t 1 \t\t   0 \t\t    0 \t\t\t 0\n",
            "  5 \t\t 1 \t\t  3 \t\t\t 0 \t\t   2 \t\t    11 \t\t\t 2\n"
          ],
          "name": "stdout"
        }
      ]
    },
    {
      "cell_type": "code",
      "metadata": {
        "id": "3_YCsiX4YR3G",
        "colab": {
          "base_uri": "https://localhost:8080/",
          "height": 1000
        },
        "outputId": "e165a438-d216-4bb4-e4d4-c804388f56c7"
      },
      "source": [
        "import numpy as np\n",
        "import matplotlib.pyplot as plt\n",
        "\n",
        "m = int(input(\"m: \" )) #11\n",
        "n = int(input(\"n: \" )) #5\n",
        "beginning_inventory = 3\n",
        "ending_inventory = 0\n",
        "shortage_quantity = 0\n",
        "order_quantity = 8\n",
        "days_until_order_arrives = 1\n",
        "total_shortage = 0\n",
        "total_demand = 0\n",
        "d = []\n",
        "ei = []\n",
        "\n",
        "for cycle in range(1,6):\n",
        "  print(\"\\nCycle no: \",cycle)\n",
        "  print(\"DayNo\\tBeginingInventory\\tDemand\\t\\tEndingInventory\\t\\tShortage\\tOrderQuantity\\tDaysUntilOrderArrives\")\n",
        "  count = 0\n",
        "  for day in range(1,n+1):\n",
        "   \n",
        "    count = count + 1\n",
        "    daily_demand = np.random.choice(a = [0,1,2,3,4], p = [0.10,0.25,0.35,0.21,0.09])\n",
        "    total_demand = daily_demand + total_shortage\n",
        "    \n",
        "    if total_demand > beginning_inventory:\n",
        "      ending_inventory = 0 \n",
        "      shortage_quantity = daily_demand - beginning_inventory\n",
        "      total_shortage = total_shortage + shortage_quantity\n",
        "    else:\n",
        "      ending_inventory = beginning_inventory - total_demand \n",
        "      total_shortage = 0\n",
        "\n",
        "    if count == 5:\n",
        "      days_until_order_arrives = np.random.choice(a = [1,2,3], p = [0.6,0.3,0.1])\n",
        "      if beginning_inventory < m:\n",
        "        order_quantity = m - ending_inventory\n",
        "      else:\n",
        "        order_quantity = 0 \n",
        "     \n",
        "    print(\" \",day,\"\\t\\t\",beginning_inventory,\"\\t\\t \",daily_demand,\"\\t\\t\\t\",ending_inventory,\"\\t\\t  \",total_shortage,\"\\t\\t   \",order_quantity,\"\\t\\t\\t\",days_until_order_arrives)\n",
        "   \n",
        "    if days_until_order_arrives <1: \n",
        "      beginning_inventory = ending_inventory + order_quantity\n",
        "      order_quantity = 0\n",
        "    else:\n",
        "      days_until_order_arrives = days_until_order_arrives - 1\n",
        "      beginning_inventory = ending_inventory\n",
        "    d.append(day)\n",
        "    ei.append(ending_inventory)\n",
        "\n",
        "print(d)\n",
        "print(ei)\n",
        "plt.scatter(d,ei)\n",
        "plt.show()  "
      ],
      "execution_count": null,
      "outputs": [
        {
          "output_type": "stream",
          "text": [
            "m: 11\n",
            "n: 5\n",
            "\n",
            "Cycle no:  1\n",
            "DayNo\tBeginingInventory\tDemand\t\tEndingInventory\t\tShortage\tOrderQuantity\tDaysUntilOrderArrives\n",
            "  1 \t\t 3 \t\t  2 \t\t\t 1 \t\t   0 \t\t    8 \t\t\t 1\n",
            "  2 \t\t 1 \t\t  2 \t\t\t 0 \t\t   1 \t\t    8 \t\t\t 0\n",
            "  3 \t\t 8 \t\t  2 \t\t\t 5 \t\t   0 \t\t    0 \t\t\t 0\n",
            "  4 \t\t 5 \t\t  4 \t\t\t 1 \t\t   0 \t\t    0 \t\t\t 0\n",
            "  5 \t\t 1 \t\t  3 \t\t\t 0 \t\t   2 \t\t    11 \t\t\t 2\n",
            "\n",
            "Cycle no:  2\n",
            "DayNo\tBeginingInventory\tDemand\t\tEndingInventory\t\tShortage\tOrderQuantity\tDaysUntilOrderArrives\n",
            "  1 \t\t 0 \t\t  3 \t\t\t 0 \t\t   5 \t\t    11 \t\t\t 1\n",
            "  2 \t\t 0 \t\t  4 \t\t\t 0 \t\t   9 \t\t    11 \t\t\t 0\n",
            "  3 \t\t 11 \t\t  2 \t\t\t 0 \t\t   0 \t\t    0 \t\t\t 0\n",
            "  4 \t\t 0 \t\t  2 \t\t\t 0 \t\t   2 \t\t    0 \t\t\t 0\n",
            "  5 \t\t 0 \t\t  2 \t\t\t 0 \t\t   4 \t\t    11 \t\t\t 1\n",
            "\n",
            "Cycle no:  3\n",
            "DayNo\tBeginingInventory\tDemand\t\tEndingInventory\t\tShortage\tOrderQuantity\tDaysUntilOrderArrives\n",
            "  1 \t\t 0 \t\t  3 \t\t\t 0 \t\t   7 \t\t    11 \t\t\t 0\n",
            "  2 \t\t 11 \t\t  2 \t\t\t 2 \t\t   0 \t\t    0 \t\t\t 0\n",
            "  3 \t\t 2 \t\t  2 \t\t\t 0 \t\t   0 \t\t    0 \t\t\t 0\n",
            "  4 \t\t 0 \t\t  1 \t\t\t 0 \t\t   1 \t\t    0 \t\t\t 0\n",
            "  5 \t\t 0 \t\t  3 \t\t\t 0 \t\t   4 \t\t    11 \t\t\t 2\n",
            "\n",
            "Cycle no:  4\n",
            "DayNo\tBeginingInventory\tDemand\t\tEndingInventory\t\tShortage\tOrderQuantity\tDaysUntilOrderArrives\n",
            "  1 \t\t 0 \t\t  1 \t\t\t 0 \t\t   5 \t\t    11 \t\t\t 1\n",
            "  2 \t\t 0 \t\t  3 \t\t\t 0 \t\t   8 \t\t    11 \t\t\t 0\n",
            "  3 \t\t 11 \t\t  2 \t\t\t 1 \t\t   0 \t\t    0 \t\t\t 0\n",
            "  4 \t\t 1 \t\t  2 \t\t\t 0 \t\t   1 \t\t    0 \t\t\t 0\n",
            "  5 \t\t 0 \t\t  3 \t\t\t 0 \t\t   4 \t\t    11 \t\t\t 1\n",
            "\n",
            "Cycle no:  5\n",
            "DayNo\tBeginingInventory\tDemand\t\tEndingInventory\t\tShortage\tOrderQuantity\tDaysUntilOrderArrives\n",
            "  1 \t\t 0 \t\t  2 \t\t\t 0 \t\t   6 \t\t    11 \t\t\t 0\n",
            "  2 \t\t 11 \t\t  2 \t\t\t 3 \t\t   0 \t\t    0 \t\t\t 0\n",
            "  3 \t\t 3 \t\t  2 \t\t\t 1 \t\t   0 \t\t    0 \t\t\t 0\n",
            "  4 \t\t 1 \t\t  4 \t\t\t 0 \t\t   3 \t\t    0 \t\t\t 0\n",
            "  5 \t\t 0 \t\t  3 \t\t\t 0 \t\t   6 \t\t    11 \t\t\t 2\n",
            "[1, 2, 3, 4, 5, 1, 2, 3, 4, 5, 1, 2, 3, 4, 5, 1, 2, 3, 4, 5, 1, 2, 3, 4, 5]\n",
            "[1, 0, 5, 1, 0, 0, 0, 0, 0, 0, 0, 2, 0, 0, 0, 0, 0, 1, 0, 0, 0, 3, 1, 0, 0]\n"
          ],
          "name": "stdout"
        },
        {
          "output_type": "display_data",
          "data": {
            "image/png": "[encoded data removed]",
            "text/plain": [
              "<Figure size 432x288 with 1 Axes>"
            ]
          },
          "metadata": {
            "tags": [],
            "needs_background": "light"
          }
        }
      ]
    }
  ]
}