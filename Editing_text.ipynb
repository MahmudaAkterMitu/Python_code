{
  "nbformat": 4,
  "nbformat_minor": 0,
  "metadata": {
    "colab": {
      "name": "Editing_text.ipynb",
      "provenance": [],
      "authorship_tag": "ABX9TyNHrq1NuRXuVMehk9mn6QW6",
      "include_colab_link": true
    },
    "kernelspec": {
      "name": "python3",
      "display_name": "Python 3"
    },
    "language_info": {
      "name": "python"
    }
  },
  "cells": [
    {
      "cell_type": "markdown",
      "metadata": {
        "id": "view-in-github",
        "colab_type": "text"
      },
      "source": [
        "<a href=\"https://colab.research.google.com/github/MahmudaAkterMitu/Python_code/blob/main/Editing_text.ipynb\" target=\"_parent\"><img src=\"https://colab.research.google.com/assets/colab-badge.svg\" alt=\"Open In Colab\"/></a>"
      ]
    },
    {
      "cell_type": "code",
      "metadata": {
        "colab": {
          "base_uri": "https://localhost:8080/"
        },
        "id": "yWzxemyRB03P",
        "outputId": "ff2278ba-4f06-46a3-f538-b7e533166d4f"
      },
      "source": [
        "class color:\n",
        "   PURPLE = '\\033[95m'\n",
        "   CYAN = '\\033[96m'\n",
        "   DARKCYAN = '\\033[36m'\n",
        "   BLUE = '\\033[94m'\n",
        "   GREEN = '\\033[92m'\n",
        "   YELLOW = '\\033[93m'\n",
        "   RED = '\\033[91m'\n",
        "   BOLD = '\\033[1m'\n",
        "   UNDERLINE = '\\033[4m'\n",
        "   END = '\\033[0m'\n",
        "\n",
        "print(color.PURPLE,'Hello World !', color.END)\n",
        "print(color.CYAN,'Hello World !', color.END)\n",
        "print(color.DARKCYAN,'Hello World !', color.END)\n",
        "print(color.BLUE,'Hello World !', color.END)\n",
        "print(color.GREEN,'Hello World !', color.END)\n",
        "print(color.YELLOW,'Hello World !', color.END)\n",
        "print(color.RED,'Hello World !', color.END)\n",
        "print(color.BOLD,'Hello World !', color.END)\n",
        "print(color.UNDERLINE,'Hello World !', color.END)"
      ],
      "execution_count": 1,
      "outputs": [
        {
          "output_type": "stream",
          "text": [
            "\u001b[95m Hello World ! \u001b[0m\n",
            "\u001b[96m Hello World ! \u001b[0m\n",
            "\u001b[36m Hello World ! \u001b[0m\n",
            "\u001b[94m Hello World ! \u001b[0m\n",
            "\u001b[92m Hello World ! \u001b[0m\n",
            "\u001b[93m Hello World ! \u001b[0m\n",
            "\u001b[91m Hello World ! \u001b[0m\n",
            "\u001b[1m Hello World ! \u001b[0m\n",
            "\u001b[4m Hello World ! \u001b[0m\n"
          ],
          "name": "stdout"
        }
      ]
    }
  ]
}